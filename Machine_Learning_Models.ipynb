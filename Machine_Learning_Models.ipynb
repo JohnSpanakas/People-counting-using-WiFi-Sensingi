{
 "cells": [
  {
   "cell_type": "markdown",
   "metadata": {},
   "source": [
    "# ML Models"
   ]
  },
  {
   "attachments": {},
   "cell_type": "markdown",
   "metadata": {},
   "source": [
    "## Imports"
   ]
  },
  {
   "cell_type": "code",
   "execution_count": 1,
   "metadata": {},
   "outputs": [],
   "source": [
    "import xgboost\n",
    "import json\n",
    "import numpy as np\n",
    "import pandas as pd\n",
    "import lightgbm as lgb\n",
    "import tensorflow as tf\n",
    "import matplotlib.cm as cm\n",
    "import matplotlib.pyplot as plt\n",
    "\n",
    "from sklearn.impute import SimpleImputer\n",
    "from imblearn.pipeline import Pipeline\n",
    "from keras.utils import to_categorical\n",
    "from tensorflow.keras.models import Model\n",
    "from sklearn.naive_bayes import GaussianNB\n",
    "from tensorflow.keras.optimizers import Adam\n",
    "from tensorflow.keras.models import Sequential\n",
    "from sklearn.preprocessing import StandardScaler\n",
    "from tensorflow.keras.callbacks import EarlyStopping\n",
    "from sklearn.model_selection import StratifiedKFold\n",
    "from sklearn.model_selection import train_test_split\n",
    "from sklearn.model_selection import RandomizedSearchCV\n",
    "from imblearn.over_sampling import SMOTE\n",
    "from sklearn.feature_selection import VarianceThreshold\n",
    "from sklearn.metrics import accuracy_score, confusion_matrix\n",
    "from tensorflow.keras.layers import Dense, Dropout, Input, Multiply, Activation, BatchNormalization, Flatten"
   ]
  },
  {
   "cell_type": "code",
   "execution_count": 2,
   "metadata": {},
   "outputs": [],
   "source": [
    "# set random seeds for reproducibility\n",
    "np.random.seed(42)\n",
    "tf.random.set_seed(42)"
   ]
  },
  {
   "attachments": {},
   "cell_type": "markdown",
   "metadata": {},
   "source": [
    "## Load Datasets"
   ]
  },
  {
   "cell_type": "code",
   "execution_count": 3,
   "metadata": {},
   "outputs": [
    {
     "name": "stderr",
     "output_type": "stream",
     "text": [
      "C:\\Users\\User\\AppData\\Local\\Temp\\ipykernel_1444\\4233416732.py:2: FutureWarning: The behavior of 'to_datetime' with 'unit' when parsing strings is deprecated. In a future version, strings will be parsed as datetime strings, matching the behavior without a 'unit'. To retain the old behavior, explicitly cast ints or floats to numeric type before calling to_datetime.\n",
      "  df = pd.read_json('c:/Users/User/Desktop/DATA/01 Labeled CSI DATA/5th_try_labeled_csi_data.json')\n"
     ]
    },
    {
     "name": "stdout",
     "output_type": "stream",
     "text": [
      "             datetime      cfo   snr  \\\n",
      "0 2024-05-29 09:04:00  25215.5  10.8   \n",
      "1 2024-05-29 09:04:00  18145.7   6.4   \n",
      "2 2024-05-29 09:04:00  28780.0   6.5   \n",
      "3 2024-05-29 09:04:00  26879.3  10.2   \n",
      "4 2024-05-29 09:04:00  22685.4   9.6   \n",
      "\n",
      "                                                real  \\\n",
      "0  [-0.079, -0.111, -0.139, -0.138, -0.132, -0.13...   \n",
      "1  [0.057, 0.041, 0, 0.014, 0.023, 0.068, 0.10200...   \n",
      "2  [0.039, 0.018000000000000002, -0.002, 0.044, 0...   \n",
      "3  [-0.068, -0.055, -0.028, -0.061, -0.096, -0.11...   \n",
      "4  [-0.055, -0.046, -0.037, -0.082, -0.127, -0.13...   \n",
      "\n",
      "                                                imag  \\\n",
      "0  [-0.035, -0.018000000000000002, 0.014, 0.041, ...   \n",
      "1  [0.108, 0.168, 0.225, 0.192, 0.158, 0.137, 0.1...   \n",
      "2  [-0.115, -0.115, -0.112, -0.105, -0.08, -0.135...   \n",
      "3  [-0.008, -0.041, -0.063, -0.131, -0.198, -0.15...   \n",
      "4  [0.122, 0.101, 0.08, 0.077, 0.049, 0.104000000...   \n",
      "\n",
      "                                            real_new  \\\n",
      "0  [-0.531, 0.322, -0.016, -0.047, 0.015, 0.01300...   \n",
      "1  [-0.59, 0.11, 0.083, -0.035, -0.012, 0.0520000...   \n",
      "2  [0.555, -0.076, -0.039, 0.01, 0.005, 0.0260000...   \n",
      "3  [-0.605, 0.5750000000000001, -0.08600000000000...   \n",
      "4  [-0.62, 0.20600000000000002, -0.024, 0, -0.008...   \n",
      "\n",
      "                                            imag_new  \\\n",
      "0  [0.418, -0.447, 0.045, 0.08600000000000001, -0...   \n",
      "1  [0.07200000000000001, -0.07200000000000001, 0....   \n",
      "2  [-0.499, 0.201, 0.037, -0.011, -0.029, -0.0260...   \n",
      "3  [-0.387, 0.158, 0.024, -0.036000000000000004, ...   \n",
      "4  [-0.372, 0.02, 0.06, -0.01, -0.022, 0.025, 0.0...   \n",
      "\n",
      "                     best_coeffs_idx  class  idx  powr  \n",
      "0  [1, 2, 256, 4, 20, 251, 246, 245]      1    1 -25.9  \n",
      "1   [1, 256, 2, 3, 244, 255, 224, 6]      0    2 -25.8  \n",
      "2    [1, 256, 2, 255, 242, 8, 36, 9]      0    3 -25.6  \n",
      "3     [1, 2, 256, 3, 4, 24, 10, 226]      0    4 -25.8  \n",
      "4  [1, 256, 2, 255, 3, 230, 15, 229]      0    5 -25.9  \n"
     ]
    }
   ],
   "source": [
    "# read json file into a df\n",
    "df = pd.read_json('c:/Users/User/Desktop/DATA/01 Labeled CSI DATA/5th_try_labeled_csi_data.json')\n",
    "print(df.head())"
   ]
  },
  {
   "cell_type": "code",
   "execution_count": null,
   "metadata": {},
   "outputs": [],
   "source": [
    "df_test = pd.read_json(\"C:/Users/User/Desktop/DATA/inference/labeled_inference_data.json\")\n",
    "print(df_test.head())"
   ]
  },
  {
   "attachments": {},
   "cell_type": "markdown",
   "metadata": {},
   "source": [
    "## Preprocessing Training Dataset"
   ]
  },
  {
   "cell_type": "code",
   "execution_count": null,
   "metadata": {},
   "outputs": [],
   "source": [
    "# Convert DataFrame to a JSON string\n",
    "json_string = df.to_json(orient='records')\n",
    "\n",
    "# Load JSON string into a list of dictionaries\n",
    "data = json.loads(json_string)\n",
    "\n",
    "# Filter out dictionaries where the key \"class\" has a value of 5\n",
    "filtered_data = [d for d in data if d.get(\"class\") != 5]\n",
    "\n",
    "# Convert the JSON data to a DataFrame\n",
    "df = pd.DataFrame(filtered_data)"
   ]
  },
  {
   "cell_type": "code",
   "execution_count": 4,
   "metadata": {},
   "outputs": [
    {
     "name": "stdout",
     "output_type": "stream",
     "text": [
      "<class 'numpy.int64'>\n",
      "<class 'numpy.int64'>\n",
      "class\n",
      "3    18774\n",
      "2    16750\n",
      "1    15845\n",
      "4    15749\n",
      "0    11730\n",
      "5     1279\n",
      "Name: count, dtype: int64\n"
     ]
    },
    {
     "data": {
      "image/png": "[encoded data removed]",
      "text/plain": [
       "<Figure size 640x480 with 1 Axes>"
      ]
     },
     "metadata": {},
     "output_type": "display_data"
    }
   ],
   "source": [
    "# keep only the columns we need, real imag and class\n",
    "df = df[['real','imag','snr', 'best_coeffs_idx', 'powr','class']]\n",
    "\n",
    "# convert class to numeric\n",
    "print(type(df['class'][0]))\n",
    "df['class'] = pd.to_numeric(df['class'])\n",
    "print(type(df['class'][0]))\n",
    "\n",
    "# check the distribution of the classes\n",
    "print(df['class'].value_counts())\n",
    "y = df['class'].values\n",
    "\n",
    "# check the distribution of the classes\n",
    "\n",
    "labels= ['0','1','2','3','4']\n",
    "plt.hist(y, bins=5, edgecolor='black')# bins is the number of bins you want to divide the data into\n",
    "plt.xticks([0.4, 1.25, 2.1, 2.9, 3.75], labels) # Set the x-axis ticks at the center of bins  \n",
    "plt.xlabel('CLASS')\n",
    "plt.ylabel('DATA')\n",
    "plt.title('Data Distribution')\n",
    "\n",
    "plt.show()\n",
    "'''#use only for 486 features\n",
    "# convert real and imaginary to list\n",
    "df_real =  pd.DataFrame(df.real.to_list())\n",
    "df_imag =  pd.DataFrame(df.imag.to_list())\n",
    "df_snr =  pd.DataFrame(df.snr.to_list())\n",
    "df_powr =  pd.DataFrame(df.powr.to_list())\n",
    "df_best_coeffs_idx =  pd.DataFrame(df.best_coeffs_idx.to_list())'''\n",
    "\n",
    "#use only for 18 features\n",
    "# convert real and imaginary to list\n",
    "df_real =  df.real.to_list()\n",
    "df_imag =  df.imag.to_list()\n",
    "df_snr =  df.snr.to_list()\n",
    "df_powr =  df.powr.to_list()\n",
    "df_best_coeffs_idx =  df.best_coeffs_idx.to_list()"
   ]
  },
  {
   "cell_type": "code",
   "execution_count": null,
   "metadata": {},
   "outputs": [],
   "source": [
    "df_real_best =[]\n",
    "real_line_values =[]\n",
    "imag_line_values = []\n",
    "df_imag_best=[]\n",
    "cnt = 1\n",
    "iter = 0\n",
    "\n",
    "for line, real_indices in zip(df_real, df_best_coeffs_idx):\n",
    "    real_indices = sorted(real_indices)\n",
    "\n",
    "    for idx,value in zip(real_indices,line):\n",
    "      \n",
    "        while idx > cnt :\n",
    "            cnt+=1\n",
    "            if idx == cnt:\n",
    "                break\n",
    "            elif idx < len(line):\n",
    "                value = line[idx-1]\n",
    "\n",
    "        if idx==cnt:\n",
    "            real_line_values.append(value)\n",
    "            iter=iter+1\n",
    "\n",
    "            if iter == 8:\n",
    "                df_real_best.append(real_line_values)\n",
    "                real_line_values = []\n",
    "                iter = 0\n",
    "                cnt=1\n",
    "                break\n",
    "\n",
    "cntIm=1 \n",
    "iter = 0   \n",
    "                    \n",
    "for line, imag_indices in zip(df_imag,df_best_coeffs_idx):\n",
    "    imag_indices = sorted(imag_indices)\n",
    "    for idx,value in zip(imag_indices,line):\n",
    "        while idx > cntIm :\n",
    "            cntIm+=1\n",
    "            if idx == cntIm:\n",
    "                break\n",
    "            elif idx < len(line):\n",
    "                value = line[idx-1]\n",
    "        if idx==cntIm:\n",
    "            imag_line_values.append(value)\n",
    "            iter=iter+1\n",
    "\n",
    "            if iter == 8:\n",
    "                df_imag_best.append(imag_line_values)\n",
    "                imag_line_values = []\n",
    "                iter = 0\n",
    "                cntIm=1\n",
    "                break\n",
    "\n",
    "'''# Drop the last row\n",
    "df_real = df_real[:-1]\n",
    "df_imag = df_imag[:-1]\n",
    "df_powr = df_powr[:-1]\n",
    "df_snr = df_snr[:-1]\n",
    "y = y[:-1]'''"
   ]
  },
  {
   "cell_type": "code",
   "execution_count": null,
   "metadata": {},
   "outputs": [],
   "source": [
    "# convert real and imaginary to list\n",
    "df_real = pd.DataFrame(df_real_best)\n",
    "df_imag = pd.DataFrame(df_imag_best)\n",
    "df_snr = pd.DataFrame(df_snr)\n",
    "df_powr = pd.DataFrame(df_powr)\n"
   ]
  },
  {
   "cell_type": "code",
   "execution_count": null,
   "metadata": {},
   "outputs": [],
   "source": [
    "\n",
    "\n",
    "print(df)\n",
    "print(df_real)\n",
    "print(df_imag)\n",
    "print(df_snr)\n",
    "print(df_powr)\n",
    "\n",
    "# concat the real and imag dataframes \n",
    "df_final = pd.concat([df_real, df_imag, df_snr, df_powr, df['class']], axis=1)\n",
    "\n",
    "print(df.head())\n",
    "print(df_final)\n",
    "\n",
    "print(df_final.shape)\n",
    "\n",
    "# map the classes 1,2,3,4,5 to 1 \n",
    "df_final['class'] = df_final['class'].map({0:0, 1:1, 2:1, 3:1, 4:1})\n",
    "\n",
    "print(df_final['class'].value_counts())"
   ]
  },
  {
   "cell_type": "code",
   "execution_count": 1,
   "metadata": {},
   "outputs": [
    {
     "ename": "NameError",
     "evalue": "name 'df_final' is not defined",
     "output_type": "error",
     "traceback": [
      "\u001b[1;31m---------------------------------------------------------------------------\u001b[0m",
      "\u001b[1;31mNameError\u001b[0m                                 Traceback (most recent call last)",
      "Cell \u001b[1;32mIn[1], line 2\u001b[0m\n\u001b[0;32m      1\u001b[0m \u001b[38;5;66;03m# drop the samples with class 2 and define samples and labels\u001b[39;00m\n\u001b[1;32m----> 2\u001b[0m y \u001b[38;5;241m=\u001b[39m \u001b[43mdf_final\u001b[49m[\u001b[38;5;124m'\u001b[39m\u001b[38;5;124mclass\u001b[39m\u001b[38;5;124m'\u001b[39m]\u001b[38;5;241m.\u001b[39mvalues\n\u001b[0;32m      3\u001b[0m X \u001b[38;5;241m=\u001b[39m df_final\u001b[38;5;241m.\u001b[39mdrop(\u001b[38;5;124m'\u001b[39m\u001b[38;5;124mclass\u001b[39m\u001b[38;5;124m'\u001b[39m, axis\u001b[38;5;241m=\u001b[39m\u001b[38;5;241m1\u001b[39m)\u001b[38;5;241m.\u001b[39mvalues \n\u001b[0;32m      5\u001b[0m X \u001b[38;5;241m=\u001b[39m X[:\u001b[38;5;241m-\u001b[39m\u001b[38;5;241m1\u001b[39m]\n",
      "\u001b[1;31mNameError\u001b[0m: name 'df_final' is not defined"
     ]
    }
   ],
   "source": [
    "# drop the samples with class 2 and define samples and labels\n",
    "y = df_final['class'].values\n",
    "X = df_final.drop('class', axis=1).values \n",
    "\n",
    "X = X[:-1]\n",
    "y = y[:-1]\n",
    "\n",
    "print(X.shape)\n",
    "print(y.shape)\n",
    "print(X)\n",
    "print(y)"
   ]
  },
  {
   "cell_type": "markdown",
   "metadata": {},
   "source": [
    "## Preprocessing Testing Dataset"
   ]
  },
  {
   "cell_type": "code",
   "execution_count": null,
   "metadata": {},
   "outputs": [],
   "source": [
    "# keep only the columns we need, real imag and class\n",
    "df_test = df_test[['real','imag','snr', 'best_coeffs_idx', 'powr','class']]\n",
    "\n",
    "# convert class to numeric\n",
    "print(type(df_test['class'][0]))\n",
    "df_test['class'] = pd.to_numeric(df_test['class'])\n",
    "print(type(df_test['class'][0]))\n",
    "\n",
    "# check the distribution of the classes\n",
    "print(df_test['class'].value_counts())\n",
    "y_test = df_test['class'].values\n",
    "\n",
    "# check the distribution of the classes\n",
    "\n",
    "labels= ['0','1','2','3','4']\n",
    "plt.hist(y_test, bins=5, edgecolor='black')# bins is the number of bins you want to divide the data into\n",
    "plt.xticks([0.4, 1.25, 2.1, 2.9, 3.75], labels) # Set the x-axis ticks at the center of bins  \n",
    "plt.xlabel('CLASS')\n",
    "plt.ylabel('DATA')\n",
    "plt.title('Testing Data Distribution')\n",
    "\n",
    "plt.show()\n",
    "\n",
    "\n",
    "#use only for 18 features\n",
    "# convert real and imaginary to list\n",
    "df_real_test =  df.real.to_list()\n",
    "df_imag_test =  df.imag.to_list()\n",
    "df_snr_test =  df.snr.to_list()\n",
    "df_powr_test =  df.powr.to_list()\n",
    "df_best_coeffs_idx_test =  df.best_coeffs_idx.to_list()\n",
    "\n",
    "'''# convert real and imaginary to list\n",
    "df_real_test = pd.DataFrame(df_test.real.to_list())\n",
    "df_imag_test = pd.DataFrame(df_test.imag.to_list())\n",
    "df_snr_test = pd.DataFrame(df_test.snr.to_list())\n",
    "df_powr_test = pd.DataFrame(df_test.powr.to_list())\n",
    "df_best_coeffs_idx_test = pd.DataFrame(df_test.best_coeffs_idx.to_list())'''"
   ]
  },
  {
   "cell_type": "code",
   "execution_count": null,
   "metadata": {},
   "outputs": [],
   "source": [
    "df_real_best_test =[]\n",
    "real_line_values_test =[]\n",
    "imag_line_values_test = []\n",
    "df_imag_best_test=[]\n",
    "cnt = 1\n",
    "iter = 0\n",
    "i = 0\n",
    "\n",
    "for line, real_indices in zip(df_real_test, df_best_coeffs_idx_test):\n",
    "    real_indices = sorted(real_indices)\n",
    "\n",
    "    for idx,value in zip(real_indices,line):\n",
    "      \n",
    "        while idx > cnt :\n",
    "            cnt+=1\n",
    "            if idx == cnt:\n",
    "                break\n",
    "            elif idx < len(line):\n",
    "                value = line[idx-1]\n",
    "\n",
    "        if idx==cnt:\n",
    "            real_line_values_test.append(value)\n",
    "            iter=iter+1\n",
    "\n",
    "            if iter == 8:\n",
    "                df_real_best_test.append(real_line_values_test)\n",
    "                real_line_values_test = []\n",
    "                iter = 0\n",
    "                cnt=1\n",
    "                break\n",
    "\n",
    "cntIm=1 \n",
    "iter = 0   \n",
    "                    \n",
    "for line, imag_indices in zip(df_imag_test,df_best_coeffs_idx_test):\n",
    "    imag_indices = sorted(imag_indices)\n",
    "\n",
    "    for idx,value in zip(imag_indices,line):\n",
    "      \n",
    "        while idx > cntIm :\n",
    "            cntIm+=1\n",
    "            if idx == cntIm:\n",
    "                break\n",
    "            elif idx < len(line):\n",
    "                value = line[idx-1]\n",
    "\n",
    "        if idx==cntIm:\n",
    "            imag_line_values_test.append(value)\n",
    "            iter=iter+1\n",
    "\n",
    "            if iter == 8:\n",
    "                df_imag_best_test.append(imag_line_values_test)\n",
    "                imag_line_values_test = []\n",
    "                iter = 0\n",
    "                cntIm=1\n",
    "                break\n"
   ]
  },
  {
   "cell_type": "code",
   "execution_count": null,
   "metadata": {},
   "outputs": [],
   "source": [
    "# convert real and imaginary to list\n",
    "df_real_test = pd.DataFrame(df_real_best_test)\n",
    "df_imag_test = pd.DataFrame(df_imag_best_test)\n",
    "df_snr_test = pd.DataFrame(df_snr_test)\n",
    "df_powr_test = pd.DataFrame(df_powr_test)\n"
   ]
  },
  {
   "cell_type": "code",
   "execution_count": null,
   "metadata": {},
   "outputs": [],
   "source": [
    "\n",
    "print(df_test)\n",
    "print(df_real_test)\n",
    "print(df_imag_test)\n",
    "print(df_snr_test)\n",
    "print(df_powr_test)\n",
    "\n",
    "# concat the real and imag dataframes \n",
    "df_final_test = pd.concat([df_real_test, df_imag_test, df_snr_test, df_powr_test, df_test['class']], axis=1)\n",
    "\n",
    "print(df_test.head())\n",
    "print(df_final_test)\n",
    "\n",
    "print(df_final_test.shape)\n",
    "\n",
    "# map the classes 1,2,3,4,5 to 1 \n",
    "df_final_test['class'] = df_final_test['class'].map({0:0, 1:0, 2:1, 3:1, 4:2})\n",
    "\n",
    "print(df_final_test['class'].value_counts())"
   ]
  },
  {
   "cell_type": "code",
   "execution_count": null,
   "metadata": {},
   "outputs": [],
   "source": [
    "# drop the samples with class 2 and define samples and labels\n",
    "y_test = df_final_test['class'].values\n",
    "X_test = df_final_test.drop('class', axis=1).values \n",
    "\n",
    "'''y_test = y_test[:-2]\n",
    "X_test = X_test[:-2]'''\n",
    "\n",
    "print(X_test.shape)\n",
    "print(y_test.shape)\n",
    "print(X_test)\n",
    "print(y_test)"
   ]
  },
  {
   "attachments": {},
   "cell_type": "markdown",
   "metadata": {},
   "source": [
    "## Gaussian Naive Bayes"
   ]
  },
  {
   "cell_type": "code",
   "execution_count": null,
   "metadata": {},
   "outputs": [],
   "source": [
    "# create classifier\n",
    "gnb = GaussianNB()\n",
    "\n",
    "# stratified k-fold cross validation\n",
    "skf = StratifiedKFold(n_splits=4)\n",
    "\n",
    "# lists to store accuracy and confusion matrix for each fold\n",
    "acc_list = []\n",
    "cm_list = []\n",
    "\n",
    "# create scaler\n",
    "scaler = StandardScaler()\n",
    "\n",
    "# iterate over folds\n",
    "for train_index, test_index in skf.split(X, y):\n",
    "    # split data into train and test set\n",
    "    X_train, X_test = X[train_index], X[test_index]\n",
    "    y_train, y_test = y[train_index], y[test_index]\n",
    "\n",
    "    # fit and transform the training data\n",
    "    X_train = scaler.fit_transform(X_train)\n",
    "    \n",
    "    # transform the testing data\n",
    "    X_test = scaler.transform(X_test)\n",
    "\n",
    "    # train classifier\n",
    "    gnb.fit(X_train, y_train)\n",
    "\n",
    "    # predict labels for test set\n",
    "    y_pred = gnb.predict(X_test)\n",
    "\n",
    "    # calculate accuracy and confusion matrix\n",
    "\n",
    "    acc = accuracy_score(y_test, y_pred)\n",
    "    cm = confusion_matrix(y_test, y_pred)\n",
    "\n",
    "    # append accuracy and confusion matrix to lists\n",
    "    acc_list.append(acc)\n",
    "    cm_list.append(cm)\n",
    "\n",
    "# print mean accuracy and mean confusion matrix\n",
    "print(np.mean(acc_list))\n",
    "print(np.mean(cm_list, axis=0))"
   ]
  },
  {
   "attachments": {},
   "cell_type": "markdown",
   "metadata": {},
   "source": [
    "## XGBoost"
   ]
  },
  {
   "cell_type": "code",
   "execution_count": null,
   "metadata": {},
   "outputs": [],
   "source": [
    "# create classifier\n",
    "xgb = xgboost.XGBClassifier()\n",
    "\n",
    "# stratified k-fold cross validation\n",
    "skf = StratifiedKFold(n_splits=3)\n",
    "\n",
    "# lists to store accuracy and confusion matrix for each fold\n",
    "acc_list = []\n",
    "cm_list = []\n",
    "\n",
    "# create scaler\n",
    "scaler = StandardScaler()\n",
    "\n",
    "# iterate over folds\n",
    "for train_index, test_index in skf.split(X, y):\n",
    "    # split data into train and test set\n",
    "    X_train, X_test = X[train_index], X[test_index]\n",
    "    y_train, y_test = y[train_index], y[test_index]\n",
    "\n",
    "    # fit and transform the training data\n",
    "    X_train = scaler.fit_transform(X_train)\n",
    "    \n",
    "    # transform the testing data\n",
    "    X_test = scaler.transform(X_test)\n",
    "\n",
    "    # train classifier\n",
    "    xgb.fit(X_train, y_train)\n",
    "\n",
    "    # predict labels for test set\n",
    "    y_pred = xgb.predict(X_test)\n",
    "\n",
    "    # calculate accuracy and confusion matrix\n",
    "\n",
    "    acc = accuracy_score(y_test, y_pred)\n",
    "    cm = confusion_matrix(y_test, y_pred)\n",
    "\n",
    "    # append accuracy and confusion matrix to lists\n",
    "    acc_list.append(acc)\n",
    "    cm_list.append(cm)\n",
    "\n",
    "# print mean accuracy and mean confusion matrix\n",
    "print(np.mean(acc_list))\n",
    "print(np.mean(cm_list, axis=0))"
   ]
  },
  {
   "attachments": {},
   "cell_type": "markdown",
   "metadata": {},
   "source": [
    "## LightGBM"
   ]
  },
  {
   "cell_type": "code",
   "execution_count": null,
   "metadata": {},
   "outputs": [],
   "source": [
    "# assume we have a dataset X with labels y\n",
    "X_train, X_test1, y_train, y_test1 = train_test_split(X, y, test_size=0.2, random_state=42)\n",
    "# use variance threshold to remove features with low variances and scale the data\n",
    "variance_threshold = VarianceThreshold(threshold=np.median(np.var(X_train, axis=0)))\n",
    "scaler = StandardScaler()\n",
    "# only fit train data and then transform all\n",
    "for transformer in (scaler, variance_threshold):\n",
    "    X_train = transformer.fit_transform(X_train)\n",
    "    X_test1 = transformer.transform(X_test1)\n",
    "\n",
    "# create a LightGBM classifier\n",
    "clf = lgb.LGBMClassifier()\n",
    "\n",
    "# define search parameters\n",
    "param_dist = {\n",
    "    'num_leaves': list(range(30, 50)),\n",
    "    'min_data_in_leaf': [30, 40],\n",
    "    'max_depth': [int(x) for x in np.linspace(10, 50, num = 5)],\n",
    "    'learning_rate': [0.01, 0.05, 0.1],\n",
    "    'min_child_samples': list(range(100, 200, 20)),\n",
    "    'boosting': ['gbdt'],'objective': ['multiclass'],'metric': ['multi_logloss'],'num_class': [5],  \n",
    "    'feature_fraction': [0.6, 0.8],'bagging_fraction': [0.8, 1.0],\n",
    "    'bagging_freq': list(range(20, 30)),\n",
    "    'subsample': [0.6, 0.8, 1.0], 'colsample_bytree': [0.6, 0.8, 1.0],\n",
    "    'reg_alpha': [0, 1],'reg_lambda': [1, 2],\n",
    "}\n",
    "\n",
    "# create randomized search 5-fold cross validation and 100 iterations\n",
    "clf_cv = RandomizedSearchCV(clf, param_distributions = param_dist, n_iter = 25, scoring = 'f1_macro', n_jobs = -1, cv = 2, verbose = 3)  # Use 'f1_macro' for multiclass problems\n",
    "# fit model\n",
    "clf_cv.fit(X_train, y_train)\n",
    "# view best hyperparameters\n",
    "print('Best Score:', clf_cv.best_score_)\n",
    "print('Best Parameters:', clf_cv.best_params_)\n",
    "\n",
    "# use the best estimator to make predictions\n",
    "y_pred = clf_cv.best_estimator_.predict(X_test1)\n",
    "\n",
    "# calculate accuracy and confusion matrix\n",
    "acc_lgbm = accuracy_score(y_test1, y_pred)\n",
    "cm = confusion_matrix(y_test1, y_pred)\n",
    "# print accuracy and confusion matrix\n",
    "print(acc_lgbm)\n",
    "print(cm)"
   ]
  },
  {
   "attachments": {},
   "cell_type": "markdown",
   "metadata": {},
   "source": [
    "## Feedforward Neural Network"
   ]
  },
  {
   "cell_type": "markdown",
   "metadata": {},
   "source": [
    "### FNN Preprocessing"
   ]
  },
  {
   "cell_type": "code",
   "execution_count": null,
   "metadata": {},
   "outputs": [],
   "source": [
    "# first split the data into training (80%) and test (20%) set\n",
    "X_train, X_test1, y_train, y_test1 = train_test_split(X, y, test_size=0.2)\n",
    "\n",
    "# then split the training set further into training (80%) and validation (20%) set\n",
    "X_train, X_val, y_train, y_val = train_test_split(X, y, test_size=0.2)\n",
    "\n",
    "# Drop rows with missing values\n",
    "#df.dropna(inplace=True)\n",
    "\n",
    "# Apply SMOTE\n",
    "#smote = SMOTE(random_state=42)\n",
    "#X_train, y_train = smote.fit_resample(X_train, y_train)\n",
    "#X_val, y_val = smote.fit_resample(X_val, y_val)\n",
    "#X_test, y_test = smote.fit_resample(X_test, y_test)\n",
    "\n",
    "# Impute missing values\n",
    "imputer = SimpleImputer(strategy='mean')\n",
    "X_train = imputer.fit_transform(X_train)\n",
    "X_val = imputer.transform(X_val)\n",
    "X_test1 = imputer.transform(X_test1)\n",
    "# use variance threshold to remove features with low variances and scale the data\n",
    "variance_threshold = VarianceThreshold(threshold=np.median(np.var(X_train, axis=0)))\n",
    "scaler = StandardScaler()\n",
    "\n",
    "# only fit train data and then transform all\n",
    "for transformer in (scaler, variance_threshold):\n",
    "    X_train = transformer.fit_transform(X_train)\n",
    "    X_val = transformer.transform(X_val)\n",
    "    X_test1 = transformer.transform(X_test1)\n",
    "\n",
    "# Verify the resampled dataset\n",
    "print(\"Before resampling:\")\n",
    "print(pd.value_counts(y_train))\n",
    "print(pd.value_counts(y_val))\n",
    "print(pd.value_counts(y_test1))\n",
    "print(\"X_train shape:\", X_train.shape)\n",
    "print(\"X_val shape:\", X_val.shape)\n",
    "print(\"X_test shape:\", X_test1.shape)"
   ]
  },
  {
   "cell_type": "markdown",
   "metadata": {},
   "source": [
    "### Train and Evaluate"
   ]
  },
  {
   "cell_type": "code",
   "execution_count": null,
   "metadata": {},
   "outputs": [],
   "source": [
    "\n",
    "input_shape = (X_train.shape[1],)\n",
    "output_shape = len(np.unique(y_train))\n",
    "\n",
    "\n",
    "# create the model \n",
    "model = Sequential([\n",
    "    Dense(256, input_shape=input_shape, activation='relu'),\n",
    "    #BatchNormalization(),\n",
    "    Dropout(0.4),\n",
    "    Dense(128, activation='relu'),\n",
    "    #BatchNormalization(),\n",
    "    Dropout(0.3),\n",
    "    Dense(64, activation='relu'),\n",
    "    #BatchNormalization(),\n",
    "    Dropout(0.2),\n",
    "    Dense(output_shape, activation='softmax')\n",
    "])\n",
    "\n",
    "model.compile(loss='sparse_categorical_crossentropy', optimizer=Adam(), metrics=['accuracy'])\n",
    "\n",
    "early_stopping = EarlyStopping(monitor='val_loss', patience=20, verbose=1, restore_best_weights=True)\n",
    "\n",
    "# fit the model using the training and validation data\n",
    "history = model.fit(X_train, y_train, epochs=500, validation_data=(X_val, y_val), batch_size=512, callbacks=[early_stopping])\n",
    "\n",
    "# evaluate the model using the test data\n",
    "y_pred = np.argmax(model.predict(X_test1), axis=-1)\n",
    "test_loss, test_accuracy = model.evaluate(X_test1, y_test1)\n",
    "print(f\"Test accuracy: {test_accuracy}\")\n",
    "\n",
    "# retrieve the training and validation loss and accuracy\n",
    "train_loss = history.history['loss']\n",
    "train_accuracy = history.history['accuracy']\n",
    "val_loss = history.history['val_loss']\n",
    "val_accuracy = history.history['val_accuracy']\n"
   ]
  },
  {
   "cell_type": "markdown",
   "metadata": {},
   "source": [
    "### FNN Plots and Cofusion Matrix"
   ]
  },
  {
   "cell_type": "code",
   "execution_count": null,
   "metadata": {},
   "outputs": [],
   "source": [
    "\n",
    "# plot the training and validation loss\n",
    "plt.figure(figsize=(8, 4))\n",
    "plt.plot(train_loss, label='Training Loss')\n",
    "plt.plot(val_loss, label='Validation Loss')\n",
    "plt.xlabel('Epochs')\n",
    "plt.ylabel('Loss')\n",
    "plt.title('Training and Validation Loss')\n",
    "plt.legend()\n",
    "plt.show()\n",
    "\n",
    "# plot the training and validation accuracy\n",
    "plt.figure(figsize=(8, 4))\n",
    "plt.plot(train_accuracy, label='Training Accuracy')\n",
    "plt.plot(val_accuracy, label='Validation Accuracy')\n",
    "plt.xlabel('Epochs')\n",
    "plt.ylabel('Accuracy')\n",
    "plt.title('Training and Validation Accuracy')\n",
    "plt.legend()\n",
    "plt.show()\n",
    "\n",
    "\n",
    "# generate the confusion matrix\n",
    "cm = confusion_matrix(y_test1.astype(int), y_pred.astype(int))\n",
    "\n",
    "# plot the confusion matrix using Matplotlib\n",
    "plt.figure(figsize=(8, 6))\n",
    "plt.imshow(cm, interpolation='nearest', cmap=plt.cm.Blues)\n",
    "plt.title('Confusion Matrix')\n",
    "plt.colorbar()\n",
    "\n",
    "classes = np.unique(y_test)\n",
    "tick_marks = np.arange(len(classes))\n",
    "plt.xticks(tick_marks, classes, rotation=45)\n",
    "plt.yticks(tick_marks, classes)\n",
    "\n",
    "fmt = 'd'\n",
    "thresh = cm.max() / 2.\n",
    "for i in range(cm.shape[0]):\n",
    "    for j in range(cm.shape[1]):\n",
    "        plt.text(j, i, format(cm[i, j], fmt),\n",
    "                 horizontalalignment='center',\n",
    "                 color='white' if cm[i, j] > thresh else 'black')\n",
    "\n",
    "plt.ylabel('True label')\n",
    "plt.xlabel('Predicted label')\n",
    "plt.tight_layout()\n",
    "plt.show() \n"
   ]
  },
  {
   "cell_type": "markdown",
   "metadata": {},
   "source": [
    "# Histogramms"
   ]
  },
  {
   "cell_type": "code",
   "execution_count": 3,
   "metadata": {},
   "outputs": [
    {
     "data": {
      "image/png": "[encoded data removed]",
      "text/plain": [
       "<Figure size 640x480 with 1 Axes>"
      ]
     },
     "metadata": {},
     "output_type": "display_data"
    },
    {
     "data": {
      "image/png": "[encoded data removed]",
      "text/plain": [
       "<Figure size 640x480 with 1 Axes>"
      ]
     },
     "metadata": {},
     "output_type": "display_data"
    },
    {
     "data": {
      "image/png": "[encoded data removed]",
      "text/plain": [
       "<Figure size 640x480 with 1 Axes>"
      ]
     },
     "metadata": {},
     "output_type": "display_data"
    },
    {
     "data": {
      "image/png": "[encoded data removed]",
      "text/plain": [
       "<Figure size 640x480 with 1 Axes>"
      ]
     },
     "metadata": {},
     "output_type": "display_data"
    }
   ],
   "source": [
    "data = [39.88, 82.03, 93.50, 94.30]\n",
    "labels= ['GNB','XGBoost','LightGBM','FNN']\n",
    "plt.bar(labels, data, edgecolor= \"black\", color=['r', 'b', 'y', 'g'])\n",
    "plt.xlabel('MODELS')\n",
    "plt.ylabel('ACCURACY PERCENTAGE')\n",
    "plt.title('PRESENCE (Two Classes: Absence - Presence)')\n",
    "\n",
    "\n",
    "plt.show()\n",
    "\n",
    "data = [27.18, 40.97, 69.43, 83.03]\n",
    "labels= ['GNB','XGBoost','LightGBM','FNN']\n",
    "plt.bar(labels, data, edgecolor= \"black\", color=['r', 'b', 'y', 'g'])\n",
    "plt.xlabel('MODELS')\n",
    "plt.ylabel('ACCURACY PERCENTAGE')\n",
    "plt.title('OCCUPANCY (Three Classes: Low - Mid - High)')\n",
    "\n",
    "\n",
    "plt.show()\n",
    "\n",
    "data = [17.80, 27.57, 57.70, 66.88]\n",
    "labels= ['GNB','XGBoost','LightGBM','FNN']\n",
    "plt.bar(labels, data, edgecolor= \"black\", color=['r', 'b', 'y', 'g'])\n",
    "plt.xlabel('MODELS')\n",
    "plt.ylabel('ACCURACY PERCENTAGE')\n",
    "plt.title('PEOPLE COUNTING (Five Classes: 0 - 4)')\n",
    "\n",
    "\n",
    "plt.show()\n",
    "\n",
    "data = [90.98, 63.48, 47.37]\n",
    "labels= ['Presence','Occupancy','Counting']\n",
    "plt.bar(labels, data, edgecolor= \"black\", color=['g'])\n",
    "plt.xlabel('SCENARIOS')\n",
    "plt.ylabel('ACCURACY PERCENTAGE')\n",
    "plt.title('FNN trained scenarios with 18 features')\n",
    "\n",
    "plt.show()"
   ]
  }
 ],
 "metadata": {
  "kernelspec": {
   "display_name": "Python 3",
   "language": "python",
   "name": "python3"
  },
  "language_info": {
   "codemirror_mode": {
    "name": "ipython",
    "version": 3
   },
   "file_extension": ".py",
   "mimetype": "text/x-python",
   "name": "python",
   "nbconvert_exporter": "python",
   "pygments_lexer": "ipython3",
   "version": "3.11.4"
  },
  "orig_nbformat": 4
 },
 "nbformat": 4,
 "nbformat_minor": 2
}
